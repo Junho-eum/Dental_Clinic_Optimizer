{
 "cells": [
  {
   "cell_type": "markdown",
   "metadata": {
    "cell_id": "4c635fb1a3d04cd796048425fc92e933",
    "deepnote_cell_type": "markdown"
   },
   "source": [
    "# Web Scrapping"
   ]
  },
  {
   "cell_type": "code",
   "execution_count": 5,
   "metadata": {
    "cell_id": "04062dfbc43a411b8abc7305d0672269",
    "deepnote_cell_type": "code",
    "deepnote_to_be_reexecuted": false,
    "execution_millis": 101,
    "execution_start": 1668649392943,
    "source_hash": "70cb7775"
   },
   "outputs": [],
   "source": [
    "from selenium import webdriver\n",
    "from selenium.webdriver.common.by import By\n",
    "from selenium.webdriver.support.ui import WebDriverWait\n",
    "from selenium.webdriver.support import expected_conditions as EC\n",
    "from selenium.webdriver.chrome.options import Options\n",
    "from selenium.webdriver.common.action_chains import ActionChains\n",
    "from selenium.webdriver.common.keys import Keys\n",
    "from geopy.geocoders import Nominatim\n",
    "geolocator = Nominatim(user_agent=\"myApp\")\n",
    "import haversine as hs\n",
    "\n",
    "from statistics import mean\n",
    "from haversine import Unit\n",
    "import numpy as np\n",
    "import pandas as pd\n",
    "import time\n",
    "import warnings\n",
    "warnings.filterwarnings('ignore')"
   ]
  },
  {
   "cell_type": "markdown",
   "metadata": {
    "cell_id": "f567bea1ec624c8bbf58ef0ac87a9c35",
    "deepnote_cell_type": "markdown"
   },
   "source": [
    "Getting address of the dental clinic, rating, reviews from google maps. I used selenium to scroll through all pages from the google maps automoatically by counting how many pages the search result had."
   ]
  },
  {
   "cell_type": "code",
   "execution_count": 2,
   "metadata": {
    "cell_id": "1f6d0f6f5f6e4d9486cf48a9de90ee2b",
    "deepnote_cell_type": "code"
   },
   "outputs": [],
   "source": [
    "class WebDriver:\n",
    "\n",
    "    def __init__(self):\n",
    "\n",
    "        self.PATH = './chromedriver'\n",
    "        self.options = Options()\n",
    "        self.driver = webdriver.Chrome(self.PATH)\n",
    "        self.location_lst = []\n",
    "\n",
    "    def get_location_data(self):\n",
    "        location_data = {}\n",
    "        location_data[\"name\"] = \"NA\"\n",
    "        location_data[\"rating\"] = \"NA\"\n",
    "        location_data[\"reviews_count\"] = \"NA\"\n",
    "        location_data[\"location\"] = \"NA\"\n",
    "        location_data['exception'] = \"NA\"\n",
    "        try:\n",
    "            name = self.driver.find_element_by_xpath(\"//div[@class='SPZz6b']//span\")\n",
    "            avg_rating = self.driver.find_element_by_xpath(\"//div[@class='TLYLSe MaBy9']//span[@class='yi40Hd YrbPuc']\")\n",
    "            total_reviews = self.driver.find_element_by_xpath(\"//span[@class='NdWbqe Y0A0hc']//span[@class='RDApEe YrbPuc']\")\n",
    "            address = self.driver.find_element_by_xpath(\"//span[@class='LrzXr']\")\n",
    "            location_data[\"name\"] = name.text\n",
    "            location_data[\"rating\"] = avg_rating.text\n",
    "            location_data[\"reviews_count\"] = total_reviews.text[1:-1]\n",
    "            location_data[\"location\"] = address.text\n",
    "\n",
    "        except:\n",
    "            name = self.driver.find_element_by_xpath(\"//div[@class='SPZz6b']//span\")\n",
    "            address = self.driver.find_element_by_xpath(\"//span[@class='LrzXr']\")\n",
    "            location_data[\"name\"] = name.text\n",
    "            location_data[\"location\"] = address.text\n",
    "            location_data['exception'] = \"Error occured\"\n",
    "\n",
    "        return location_data\n",
    "                                    \n",
    "    def scrape(self, url): # Passed the URL as a variable\n",
    "\n",
    "        self.driver.get(url) # Get is a method that will tell the driver to open at that particular URL\n",
    "        time.sleep(7) # Waiting for the page to load.\n",
    "        for i in range(11):\n",
    "            results = self.driver.find_elements_by_xpath(\"//div[@class='dbg0pd']//span[@class='OSrXXb']\")\n",
    "            num_boxes = len(results)\n",
    "            for j in range(3,num_boxes):\n",
    "                try:\n",
    "                    self.driver.find_elements_by_xpath(\"//div[@class='rllt__details']//span[@class='OSrXXb']\")[j].click()\n",
    "                    time.sleep(2)\n",
    "                    loc_data = self.get_location_data()\n",
    "                    self.location_lst.append(loc_data)\n",
    "                    time.sleep(1)\n",
    "                except:\n",
    "                    pass\n",
    "\n",
    "            self.driver.find_element_by_xpath(\"//span[@style='display:block;margin-left:53px']\").click()\n",
    "            time.sleep(1.5)\n",
    "        self.driver.quit()"
   ]
  },
  {
   "cell_type": "code",
   "execution_count": 6,
   "metadata": {
    "cell_id": "82532e6b9d104f18b741a25246a4b1de",
    "collapsed": true,
    "deepnote_cell_type": "code"
   },
   "outputs": [
    {
     "ename": "NoSuchWindowException",
     "evalue": "Message: no such window: target window already closed\nfrom unknown error: web view not found\n  (Session info: chrome=108.0.5359.98)\nStacktrace:\n0   chromedriver                        0x0000000104da6f38 chromedriver + 4910904\n1   chromedriver                        0x0000000104d26a03 chromedriver + 4385283\n2   chromedriver                        0x000000010496b747 chromedriver + 472903\n3   chromedriver                        0x0000000104941ff5 chromedriver + 303093\n4   chromedriver                        0x00000001049dab0f chromedriver + 928527\n5   chromedriver                        0x00000001049f0763 chromedriver + 1017699\n6   chromedriver                        0x00000001049d5ee3 chromedriver + 909027\n7   chromedriver                        0x00000001049a030c chromedriver + 688908\n8   chromedriver                        0x00000001049a188e chromedriver + 694414\n9   chromedriver                        0x0000000104d741de chromedriver + 4702686\n10  chromedriver                        0x0000000104d78b19 chromedriver + 4721433\n11  chromedriver                        0x0000000104d8028e chromedriver + 4752014\n12  chromedriver                        0x0000000104d7991a chromedriver + 4725018\n13  chromedriver                        0x0000000104d4db02 chromedriver + 4545282\n14  chromedriver                        0x0000000104d98888 chromedriver + 4851848\n15  chromedriver                        0x0000000104d98a05 chromedriver + 4852229\n16  chromedriver                        0x0000000104daee5f chromedriver + 4943455\n17  libsystem_pthread.dylib             0x00007fff2042e954 _pthread_start + 224\n18  libsystem_pthread.dylib             0x00007fff2042a4a7 thread_start + 15\n",
     "output_type": "error",
     "traceback": [
      "\u001b[0;31m---------------------------------------------------------------------------\u001b[0m",
      "\u001b[0;31mNoSuchWindowException\u001b[0m                     Traceback (most recent call last)",
      "\u001b[0;32m/var/folders/zc/1dftl_rj0b55snyh5w747lv80000gn/T/ipykernel_1880/3384864492.py\u001b[0m in \u001b[0;36m<module>\u001b[0;34m\u001b[0m\n\u001b[1;32m      1\u001b[0m \u001b[0mx\u001b[0m \u001b[0;34m=\u001b[0m \u001b[0mWebDriver\u001b[0m\u001b[0;34m(\u001b[0m\u001b[0;34m)\u001b[0m\u001b[0;34m\u001b[0m\u001b[0;34m\u001b[0m\u001b[0m\n\u001b[1;32m      2\u001b[0m \u001b[0murl\u001b[0m \u001b[0;34m=\u001b[0m \u001b[0;34m\"https://www.google.com/search?rlz=1C5CHFA_enUS967US967&tbs=lf:1,lf_ui:2&tbm=lcl&sxsrf=ALiCzsb63ThpCyYc7JrvXXQOQXCgZGZBcA:1668630378271&q=dental+clinics+in+waltham&rflfq=1&num=10&sa=X&ved=2ahUKEwjL3dTHxLP7AhXMGlkFHQ9zCuoQjGp6BAgkEAE&biw=1078&bih=978&dpr=0.9#rlfi=hd:;si:;mv:[[42.407184699999995,-71.1949413],[42.365521099999995,-71.2784801]];tbs:lrf:!1m4!1u3!2m2!3m1!1e1!1m4!1u2!2m2!2m1!1e1!2m1!1e2!2m1!1e3!3sIAE,lf:1,lf_ui:2\"\u001b[0m\u001b[0;34m\u001b[0m\u001b[0;34m\u001b[0m\u001b[0m\n\u001b[0;32m----> 3\u001b[0;31m \u001b[0mx\u001b[0m\u001b[0;34m.\u001b[0m\u001b[0mscrape\u001b[0m\u001b[0;34m(\u001b[0m\u001b[0murl\u001b[0m\u001b[0;34m)\u001b[0m\u001b[0;34m\u001b[0m\u001b[0;34m\u001b[0m\u001b[0m\n\u001b[0m",
      "\u001b[0;32m/var/folders/zc/1dftl_rj0b55snyh5w747lv80000gn/T/ipykernel_1880/1845998791.py\u001b[0m in \u001b[0;36mscrape\u001b[0;34m(self, url)\u001b[0m\n\u001b[1;32m     51\u001b[0m                     \u001b[0;32mpass\u001b[0m\u001b[0;34m\u001b[0m\u001b[0;34m\u001b[0m\u001b[0m\n\u001b[1;32m     52\u001b[0m \u001b[0;34m\u001b[0m\u001b[0m\n\u001b[0;32m---> 53\u001b[0;31m             \u001b[0mself\u001b[0m\u001b[0;34m.\u001b[0m\u001b[0mdriver\u001b[0m\u001b[0;34m.\u001b[0m\u001b[0mfind_element_by_xpath\u001b[0m\u001b[0;34m(\u001b[0m\u001b[0;34m\"//span[@style='display:block;margin-left:53px']\"\u001b[0m\u001b[0;34m)\u001b[0m\u001b[0;34m.\u001b[0m\u001b[0mclick\u001b[0m\u001b[0;34m(\u001b[0m\u001b[0;34m)\u001b[0m\u001b[0;34m\u001b[0m\u001b[0;34m\u001b[0m\u001b[0m\n\u001b[0m\u001b[1;32m     54\u001b[0m             \u001b[0mtime\u001b[0m\u001b[0;34m.\u001b[0m\u001b[0msleep\u001b[0m\u001b[0;34m(\u001b[0m\u001b[0;36m1.5\u001b[0m\u001b[0;34m)\u001b[0m\u001b[0;34m\u001b[0m\u001b[0;34m\u001b[0m\u001b[0m\n\u001b[1;32m     55\u001b[0m         \u001b[0mself\u001b[0m\u001b[0;34m.\u001b[0m\u001b[0mdriver\u001b[0m\u001b[0;34m.\u001b[0m\u001b[0mquit\u001b[0m\u001b[0;34m(\u001b[0m\u001b[0;34m)\u001b[0m\u001b[0;34m\u001b[0m\u001b[0;34m\u001b[0m\u001b[0m\n",
      "\u001b[0;32m~/opt/anaconda3/lib/python3.9/site-packages/selenium/webdriver/remote/webdriver.py\u001b[0m in \u001b[0;36mfind_element_by_xpath\u001b[0;34m(self, xpath)\u001b[0m\n\u001b[1;32m    519\u001b[0m             \u001b[0mstacklevel\u001b[0m\u001b[0;34m=\u001b[0m\u001b[0;36m2\u001b[0m\u001b[0;34m,\u001b[0m\u001b[0;34m\u001b[0m\u001b[0;34m\u001b[0m\u001b[0m\n\u001b[1;32m    520\u001b[0m         )\n\u001b[0;32m--> 521\u001b[0;31m         \u001b[0;32mreturn\u001b[0m \u001b[0mself\u001b[0m\u001b[0;34m.\u001b[0m\u001b[0mfind_element\u001b[0m\u001b[0;34m(\u001b[0m\u001b[0mby\u001b[0m\u001b[0;34m=\u001b[0m\u001b[0mBy\u001b[0m\u001b[0;34m.\u001b[0m\u001b[0mXPATH\u001b[0m\u001b[0;34m,\u001b[0m \u001b[0mvalue\u001b[0m\u001b[0;34m=\u001b[0m\u001b[0mxpath\u001b[0m\u001b[0;34m)\u001b[0m\u001b[0;34m\u001b[0m\u001b[0;34m\u001b[0m\u001b[0m\n\u001b[0m\u001b[1;32m    522\u001b[0m \u001b[0;34m\u001b[0m\u001b[0m\n\u001b[1;32m    523\u001b[0m     \u001b[0;32mdef\u001b[0m \u001b[0mfind_elements_by_xpath\u001b[0m\u001b[0;34m(\u001b[0m\u001b[0mself\u001b[0m\u001b[0;34m,\u001b[0m \u001b[0mxpath\u001b[0m\u001b[0;34m)\u001b[0m \u001b[0;34m->\u001b[0m \u001b[0mList\u001b[0m\u001b[0;34m[\u001b[0m\u001b[0mWebElement\u001b[0m\u001b[0;34m]\u001b[0m\u001b[0;34m:\u001b[0m\u001b[0;34m\u001b[0m\u001b[0;34m\u001b[0m\u001b[0m\n",
      "\u001b[0;32m~/opt/anaconda3/lib/python3.9/site-packages/selenium/webdriver/remote/webdriver.py\u001b[0m in \u001b[0;36mfind_element\u001b[0;34m(self, by, value)\u001b[0m\n\u001b[1;32m   1246\u001b[0m             \u001b[0mvalue\u001b[0m \u001b[0;34m=\u001b[0m \u001b[0;34m'[name=\"%s\"]'\u001b[0m \u001b[0;34m%\u001b[0m \u001b[0mvalue\u001b[0m\u001b[0;34m\u001b[0m\u001b[0;34m\u001b[0m\u001b[0m\n\u001b[1;32m   1247\u001b[0m \u001b[0;34m\u001b[0m\u001b[0m\n\u001b[0;32m-> 1248\u001b[0;31m         return self.execute(Command.FIND_ELEMENT, {\n\u001b[0m\u001b[1;32m   1249\u001b[0m             \u001b[0;34m'using'\u001b[0m\u001b[0;34m:\u001b[0m \u001b[0mby\u001b[0m\u001b[0;34m,\u001b[0m\u001b[0;34m\u001b[0m\u001b[0;34m\u001b[0m\u001b[0m\n\u001b[1;32m   1250\u001b[0m             'value': value})['value']\n",
      "\u001b[0;32m~/opt/anaconda3/lib/python3.9/site-packages/selenium/webdriver/remote/webdriver.py\u001b[0m in \u001b[0;36mexecute\u001b[0;34m(self, driver_command, params)\u001b[0m\n\u001b[1;32m    423\u001b[0m         \u001b[0mresponse\u001b[0m \u001b[0;34m=\u001b[0m \u001b[0mself\u001b[0m\u001b[0;34m.\u001b[0m\u001b[0mcommand_executor\u001b[0m\u001b[0;34m.\u001b[0m\u001b[0mexecute\u001b[0m\u001b[0;34m(\u001b[0m\u001b[0mdriver_command\u001b[0m\u001b[0;34m,\u001b[0m \u001b[0mparams\u001b[0m\u001b[0;34m)\u001b[0m\u001b[0;34m\u001b[0m\u001b[0;34m\u001b[0m\u001b[0m\n\u001b[1;32m    424\u001b[0m         \u001b[0;32mif\u001b[0m \u001b[0mresponse\u001b[0m\u001b[0;34m:\u001b[0m\u001b[0;34m\u001b[0m\u001b[0;34m\u001b[0m\u001b[0m\n\u001b[0;32m--> 425\u001b[0;31m             \u001b[0mself\u001b[0m\u001b[0;34m.\u001b[0m\u001b[0merror_handler\u001b[0m\u001b[0;34m.\u001b[0m\u001b[0mcheck_response\u001b[0m\u001b[0;34m(\u001b[0m\u001b[0mresponse\u001b[0m\u001b[0;34m)\u001b[0m\u001b[0;34m\u001b[0m\u001b[0;34m\u001b[0m\u001b[0m\n\u001b[0m\u001b[1;32m    426\u001b[0m             response['value'] = self._unwrap_value(\n\u001b[1;32m    427\u001b[0m                 response.get('value', None))\n",
      "\u001b[0;32m~/opt/anaconda3/lib/python3.9/site-packages/selenium/webdriver/remote/errorhandler.py\u001b[0m in \u001b[0;36mcheck_response\u001b[0;34m(self, response)\u001b[0m\n\u001b[1;32m    245\u001b[0m                 \u001b[0malert_text\u001b[0m \u001b[0;34m=\u001b[0m \u001b[0mvalue\u001b[0m\u001b[0;34m[\u001b[0m\u001b[0;34m'alert'\u001b[0m\u001b[0;34m]\u001b[0m\u001b[0;34m.\u001b[0m\u001b[0mget\u001b[0m\u001b[0;34m(\u001b[0m\u001b[0;34m'text'\u001b[0m\u001b[0;34m)\u001b[0m\u001b[0;34m\u001b[0m\u001b[0;34m\u001b[0m\u001b[0m\n\u001b[1;32m    246\u001b[0m             \u001b[0;32mraise\u001b[0m \u001b[0mexception_class\u001b[0m\u001b[0;34m(\u001b[0m\u001b[0mmessage\u001b[0m\u001b[0;34m,\u001b[0m \u001b[0mscreen\u001b[0m\u001b[0;34m,\u001b[0m \u001b[0mstacktrace\u001b[0m\u001b[0;34m,\u001b[0m \u001b[0malert_text\u001b[0m\u001b[0;34m)\u001b[0m  \u001b[0;31m# type: ignore[call-arg]  # mypy is not smart enough here\u001b[0m\u001b[0;34m\u001b[0m\u001b[0;34m\u001b[0m\u001b[0m\n\u001b[0;32m--> 247\u001b[0;31m         \u001b[0;32mraise\u001b[0m \u001b[0mexception_class\u001b[0m\u001b[0;34m(\u001b[0m\u001b[0mmessage\u001b[0m\u001b[0;34m,\u001b[0m \u001b[0mscreen\u001b[0m\u001b[0;34m,\u001b[0m \u001b[0mstacktrace\u001b[0m\u001b[0;34m)\u001b[0m\u001b[0;34m\u001b[0m\u001b[0;34m\u001b[0m\u001b[0m\n\u001b[0m\u001b[1;32m    248\u001b[0m \u001b[0;34m\u001b[0m\u001b[0m\n\u001b[1;32m    249\u001b[0m     \u001b[0;32mdef\u001b[0m \u001b[0m_value_or_default\u001b[0m\u001b[0;34m(\u001b[0m\u001b[0mself\u001b[0m\u001b[0;34m,\u001b[0m \u001b[0mobj\u001b[0m\u001b[0;34m:\u001b[0m \u001b[0mMapping\u001b[0m\u001b[0;34m[\u001b[0m\u001b[0m_KT\u001b[0m\u001b[0;34m,\u001b[0m \u001b[0m_VT\u001b[0m\u001b[0;34m]\u001b[0m\u001b[0;34m,\u001b[0m \u001b[0mkey\u001b[0m\u001b[0;34m:\u001b[0m \u001b[0m_KT\u001b[0m\u001b[0;34m,\u001b[0m \u001b[0mdefault\u001b[0m\u001b[0;34m:\u001b[0m \u001b[0m_VT\u001b[0m\u001b[0;34m)\u001b[0m \u001b[0;34m->\u001b[0m \u001b[0m_VT\u001b[0m\u001b[0;34m:\u001b[0m\u001b[0;34m\u001b[0m\u001b[0;34m\u001b[0m\u001b[0m\n",
      "\u001b[0;31mNoSuchWindowException\u001b[0m: Message: no such window: target window already closed\nfrom unknown error: web view not found\n  (Session info: chrome=108.0.5359.98)\nStacktrace:\n0   chromedriver                        0x0000000104da6f38 chromedriver + 4910904\n1   chromedriver                        0x0000000104d26a03 chromedriver + 4385283\n2   chromedriver                        0x000000010496b747 chromedriver + 472903\n3   chromedriver                        0x0000000104941ff5 chromedriver + 303093\n4   chromedriver                        0x00000001049dab0f chromedriver + 928527\n5   chromedriver                        0x00000001049f0763 chromedriver + 1017699\n6   chromedriver                        0x00000001049d5ee3 chromedriver + 909027\n7   chromedriver                        0x00000001049a030c chromedriver + 688908\n8   chromedriver                        0x00000001049a188e chromedriver + 694414\n9   chromedriver                        0x0000000104d741de chromedriver + 4702686\n10  chromedriver                        0x0000000104d78b19 chromedriver + 4721433\n11  chromedriver                        0x0000000104d8028e chromedriver + 4752014\n12  chromedriver                        0x0000000104d7991a chromedriver + 4725018\n13  chromedriver                        0x0000000104d4db02 chromedriver + 4545282\n14  chromedriver                        0x0000000104d98888 chromedriver + 4851848\n15  chromedriver                        0x0000000104d98a05 chromedriver + 4852229\n16  chromedriver                        0x0000000104daee5f chromedriver + 4943455\n17  libsystem_pthread.dylib             0x00007fff2042e954 _pthread_start + 224\n18  libsystem_pthread.dylib             0x00007fff2042a4a7 thread_start + 15\n"
     ]
    }
   ],
   "source": [
    "x = WebDriver()\n",
    "url = \"https://www.google.com/search?rlz=1C5CHFA_enUS967US967&tbs=lf:1,lf_ui:2&tbm=lcl&sxsrf=ALiCzsb63ThpCyYc7JrvXXQOQXCgZGZBcA:1668630378271&q=dental+clinics+in+waltham&rflfq=1&num=10&sa=X&ved=2ahUKEwjL3dTHxLP7AhXMGlkFHQ9zCuoQjGp6BAgkEAE&biw=1078&bih=978&dpr=0.9#rlfi=hd:;si:;mv:[[42.407184699999995,-71.1949413],[42.365521099999995,-71.2784801]];tbs:lrf:!1m4!1u3!2m2!3m1!1e1!1m4!1u2!2m2!2m1!1e1!2m1!1e2!2m1!1e3!3sIAE,lf:1,lf_ui:2\"\n",
    "x.scrape(url)"
   ]
  },
  {
   "cell_type": "markdown",
   "metadata": {
    "cell_id": "975a3bf863d24befacb077fcd27629b4",
    "deepnote_cell_type": "markdown"
   },
   "source": [
    "Every census tract block has population data. Therefore, I linked censustract of each addresses to get the population for each clinics that is in the specific census tract and got census tract blocks and population of the blocks for each address."
   ]
  },
  {
   "cell_type": "code",
   "execution_count": 18,
   "metadata": {
    "cell_id": "1fbc4a27392c4bdc91de9e70502f7ffc",
    "deepnote_cell_type": "code"
   },
   "outputs": [],
   "source": [
    "tract_lst = []\n",
    "pop_lst = []\n",
    "def get_census_population(df, tract_lst, pop_lst):\n",
    "    Path = './chromedriver'\n",
    "    driver = webdriver.Chrome(Path)\n",
    "    url = \"https://geomap.ffiec.gov/FFIECGeocMap/GeocodeMap1.aspx\"\n",
    "    driver.get(url)\n",
    "    time.sleep(5)\n",
    "\n",
    "    for address in df[\"location\"]:\n",
    "        input_cell = driver.find_element_by_xpath(\"//div[@class='dijitReset dijitInputField dijitInputContainer']//input[@class='dijitReset dijitInputInner']\")\n",
    "        input_cell.send_keys(address)\n",
    "        time.sleep(0.5)\n",
    "        input_cell.send_keys(Keys.ENTER)\n",
    "        time.sleep(3)\n",
    "        tract_code = driver.find_element_by_xpath(\"//div[@id='TractCode']\")\n",
    "        tract_lst.append(tract_code.text)\n",
    "        driver.find_element_by_xpath(\"//button[@id='btnCensusData1']\").click()\n",
    "        time.sleep(1)\n",
    "        population = driver.find_element_by_xpath(\"//div[@id='cenPopulation']\")\n",
    "        pop_lst.append(population.text)\n",
    "        driver.refresh()\n",
    "        time.sleep(3)     \n",
    "        \n",
    "        "
   ]
  },
  {
   "cell_type": "code",
   "execution_count": 19,
   "metadata": {
    "cell_id": "ca466f229e2f46c2bae753f67379886d",
    "deepnote_cell_type": "code"
   },
   "outputs": [
    {
     "name": "stderr",
     "output_type": "stream",
     "text": [
      "/var/folders/zc/1dftl_rj0b55snyh5w747lv80000gn/T/ipykernel_87341/2604107497.py:5: DeprecationWarning: executable_path has been deprecated, please pass in a Service object\n",
      "  driver = webdriver.Chrome(Path)\n",
      "/var/folders/zc/1dftl_rj0b55snyh5w747lv80000gn/T/ipykernel_87341/2604107497.py:11: DeprecationWarning: find_element_by_xpath is deprecated. Please use find_element(by=By.XPATH, value=xpath) instead\n",
      "  input_cell = driver.find_element_by_xpath(\"//div[@class='dijitReset dijitInputField dijitInputContainer']//input[@class='dijitReset dijitInputInner']\")\n",
      "/var/folders/zc/1dftl_rj0b55snyh5w747lv80000gn/T/ipykernel_87341/2604107497.py:16: DeprecationWarning: find_element_by_xpath is deprecated. Please use find_element(by=By.XPATH, value=xpath) instead\n",
      "  tract_code = driver.find_element_by_xpath(\"//div[@id='TractCode']\")\n",
      "/var/folders/zc/1dftl_rj0b55snyh5w747lv80000gn/T/ipykernel_87341/2604107497.py:18: DeprecationWarning: find_element_by_xpath is deprecated. Please use find_element(by=By.XPATH, value=xpath) instead\n",
      "  driver.find_element_by_xpath(\"//button[@id='btnCensusData1']\").click()\n",
      "/var/folders/zc/1dftl_rj0b55snyh5w747lv80000gn/T/ipykernel_87341/2604107497.py:20: DeprecationWarning: find_element_by_xpath is deprecated. Please use find_element(by=By.XPATH, value=xpath) instead\n",
      "  population = driver.find_element_by_xpath(\"//div[@id='cenPopulation']\")\n"
     ]
    }
   ],
   "source": [
    "get_census_population(competitor_df, tract_lst, pop_lst)"
   ]
  },
  {
   "cell_type": "markdown",
   "metadata": {
    "cell_id": "abe5e5a7ca324607a64ea46d62438bcd",
    "deepnote_cell_type": "markdown"
   },
   "source": [
    "Inserting population and census tract data into the dataframe and saving it to csv file for later usage."
   ]
  },
  {
   "cell_type": "code",
   "execution_count": 29,
   "metadata": {
    "cell_id": "e2b50a275aaf4c17a93e6fc59a90ec8a",
    "deepnote_cell_type": "code"
   },
   "outputs": [],
   "source": [
    "competitor_df[\"Population\"] = pop_lst\n",
    "competitor_df[\"Census_Tract\"] = tract_lst\n",
    "competitor_df.to_csv(\"competitor_info4.csv\")"
   ]
  },
  {
   "cell_type": "code",
   "execution_count": 211,
   "metadata": {
    "cell_id": "eebb67314bb9492688726c5ef9cd0b8b",
    "deepnote_cell_type": "code"
   },
   "outputs": [],
   "source": [
    "competitor_df = pd.DataFrame(x.location_lst)"
   ]
  },
  {
   "cell_type": "code",
   "execution_count": 217,
   "metadata": {
    "cell_id": "ec4f289a457945a5830d48607ccda8c1",
    "deepnote_cell_type": "code"
   },
   "outputs": [],
   "source": [
    "competitor_df.to_csv(\"competitor_info.csv\")"
   ]
  },
  {
   "cell_type": "markdown",
   "metadata": {},
   "source": [
    "Get coordinates latitude and longitude for the data to calculate average distance"
   ]
  },
  {
   "cell_type": "code",
   "execution_count": 280,
   "metadata": {
    "cell_id": "fa811a7359eb4cc58fc051d078c6a57f",
    "deepnote_cell_type": "code"
   },
   "outputs": [],
   "source": [
    "coor_lst = []\n",
    "def get_coor(df,coor_lst):\n",
    "    path = './chromedriver'\n",
    "    driver = webdriver.Chrome(path)\n",
    "    url = \"https://gps-coordinates.org/\"\n",
    "    driver.get(url)\n",
    "    time.sleep(4)\n",
    "    for address in df[\"location\"]:\n",
    "        input_element = driver.find_element_by_xpath(\"//input[@id='address']\")\n",
    "        input_element.clear()\n",
    "        time.sleep(0.5)\n",
    "        input_element.send_keys(address)\n",
    "        time.sleep(0.5)\n",
    "        search_element = driver.find_element_by_xpath(\"//button[@id='btnGetGpsCoordinates']\")\n",
    "        search_element.click()\n",
    "        time.sleep(1)\n",
    "        lat_input = driver.find_element_by_xpath(\"//input[@id='latitude']\")\n",
    "        longt_input = driver.find_element_by_xpath(\"//input[@id='longitude']\")\n",
    "        lat = lat_input.get_attribute(\"value\")\n",
    "        longt = longt_input.get_attribute(\"value\")\n",
    "        coor_lst.append((lat,longt))\n",
    "        time.sleep(1)"
   ]
  },
  {
   "cell_type": "code",
   "execution_count": 281,
   "metadata": {
    "cell_id": "96c70a67aff0450abaca23bb4fd88961",
    "deepnote_cell_type": "code",
    "scrolled": true
   },
   "outputs": [
    {
     "name": "stderr",
     "output_type": "stream",
     "text": [
      "/var/folders/zc/1dftl_rj0b55snyh5w747lv80000gn/T/ipykernel_36888/4168279071.py:4: DeprecationWarning: executable_path has been deprecated, please pass in a Service object\n",
      "  driver = webdriver.Chrome(path)\n",
      "/var/folders/zc/1dftl_rj0b55snyh5w747lv80000gn/T/ipykernel_36888/4168279071.py:9: DeprecationWarning: find_element_by_xpath is deprecated. Please use find_element(by=By.XPATH, value=xpath) instead\n",
      "  input_element = driver.find_element_by_xpath(\"//input[@id='address']\")\n",
      "/var/folders/zc/1dftl_rj0b55snyh5w747lv80000gn/T/ipykernel_36888/4168279071.py:14: DeprecationWarning: find_element_by_xpath is deprecated. Please use find_element(by=By.XPATH, value=xpath) instead\n",
      "  search_element = driver.find_element_by_xpath(\"//button[@id='btnGetGpsCoordinates']\")\n",
      "/var/folders/zc/1dftl_rj0b55snyh5w747lv80000gn/T/ipykernel_36888/4168279071.py:17: DeprecationWarning: find_element_by_xpath is deprecated. Please use find_element(by=By.XPATH, value=xpath) instead\n",
      "  lat_input = driver.find_element_by_xpath(\"//input[@id='latitude']\")\n",
      "/var/folders/zc/1dftl_rj0b55snyh5w747lv80000gn/T/ipykernel_36888/4168279071.py:18: DeprecationWarning: find_element_by_xpath is deprecated. Please use find_element(by=By.XPATH, value=xpath) instead\n",
      "  longt_input = driver.find_element_by_xpath(\"//input[@id='longitude']\")\n"
     ]
    }
   ],
   "source": [
    "get_coor(competitor_df, coor_lst)"
   ]
  },
  {
   "cell_type": "code",
   "execution_count": 293,
   "metadata": {
    "cell_id": "481d624cad8541d8b2429b6d6ddcec7e",
    "deepnote_cell_type": "code"
   },
   "outputs": [
    {
     "data": {
      "text/plain": [
       "62"
      ]
     },
     "execution_count": 293,
     "metadata": {},
     "output_type": "execute_result"
    }
   ],
   "source": [
    "lat_long_lst = []\n",
    "for i in coor_lst:\n",
    "    lat_long = [float(j) for j in i]\n",
    "    lat_long_lst.append(lat_long)"
   ]
  },
  {
   "cell_type": "markdown",
   "metadata": {
    "cell_id": "87dde9fe4ce64d7eaa8830bf9c0db61d",
    "deepnote_cell_type": "markdown"
   },
   "source": [
    "Insert latitude and longitude data into the dataframe"
   ]
  },
  {
   "cell_type": "code",
   "execution_count": 314,
   "metadata": {
    "cell_id": "21c7403a748e4513bb884a071a4cab3f",
    "deepnote_cell_type": "code"
   },
   "outputs": [],
   "source": [
    "com_df[\"Latitude\"] = np.NAN\n",
    "com_df[\"Longitude\"] = np.NAN"
   ]
  },
  {
   "cell_type": "code",
   "execution_count": 315,
   "metadata": {
    "cell_id": "be994ed7bb784c7e92a9acf59214a1e7",
    "deepnote_cell_type": "code"
   },
   "outputs": [],
   "source": [
    "com_df = pd.read_csv(\"competitor_info.csv\")"
   ]
  },
  {
   "cell_type": "code",
   "execution_count": 316,
   "metadata": {
    "cell_id": "f8ac96e65c9943d0b1056d342ae4f6d1",
    "collapsed": true,
    "deepnote_cell_type": "code"
   },
   "outputs": [
    {
     "ename": "KeyError",
     "evalue": "'Latitude'",
     "output_type": "error",
     "traceback": [
      "\u001b[0;31m---------------------------------------------------------------------------\u001b[0m",
      "\u001b[0;31mKeyError\u001b[0m                                  Traceback (most recent call last)",
      "\u001b[0;32m~/opt/anaconda3/lib/python3.9/site-packages/pandas/core/indexes/base.py\u001b[0m in \u001b[0;36mget_loc\u001b[0;34m(self, key, method, tolerance)\u001b[0m\n\u001b[1;32m   3360\u001b[0m             \u001b[0;32mtry\u001b[0m\u001b[0;34m:\u001b[0m\u001b[0;34m\u001b[0m\u001b[0;34m\u001b[0m\u001b[0m\n\u001b[0;32m-> 3361\u001b[0;31m                 \u001b[0;32mreturn\u001b[0m \u001b[0mself\u001b[0m\u001b[0;34m.\u001b[0m\u001b[0m_engine\u001b[0m\u001b[0;34m.\u001b[0m\u001b[0mget_loc\u001b[0m\u001b[0;34m(\u001b[0m\u001b[0mcasted_key\u001b[0m\u001b[0;34m)\u001b[0m\u001b[0;34m\u001b[0m\u001b[0;34m\u001b[0m\u001b[0m\n\u001b[0m\u001b[1;32m   3362\u001b[0m             \u001b[0;32mexcept\u001b[0m \u001b[0mKeyError\u001b[0m \u001b[0;32mas\u001b[0m \u001b[0merr\u001b[0m\u001b[0;34m:\u001b[0m\u001b[0;34m\u001b[0m\u001b[0;34m\u001b[0m\u001b[0m\n",
      "\u001b[0;32m~/opt/anaconda3/lib/python3.9/site-packages/pandas/_libs/index.pyx\u001b[0m in \u001b[0;36mpandas._libs.index.IndexEngine.get_loc\u001b[0;34m()\u001b[0m\n",
      "\u001b[0;32m~/opt/anaconda3/lib/python3.9/site-packages/pandas/_libs/index.pyx\u001b[0m in \u001b[0;36mpandas._libs.index.IndexEngine.get_loc\u001b[0;34m()\u001b[0m\n",
      "\u001b[0;32mpandas/_libs/hashtable_class_helper.pxi\u001b[0m in \u001b[0;36mpandas._libs.hashtable.PyObjectHashTable.get_item\u001b[0;34m()\u001b[0m\n",
      "\u001b[0;32mpandas/_libs/hashtable_class_helper.pxi\u001b[0m in \u001b[0;36mpandas._libs.hashtable.PyObjectHashTable.get_item\u001b[0;34m()\u001b[0m\n",
      "\u001b[0;31mKeyError\u001b[0m: 'Latitude'",
      "\nThe above exception was the direct cause of the following exception:\n",
      "\u001b[0;31mKeyError\u001b[0m                                  Traceback (most recent call last)",
      "\u001b[0;32m/var/folders/zc/1dftl_rj0b55snyh5w747lv80000gn/T/ipykernel_36888/2332479985.py\u001b[0m in \u001b[0;36m<module>\u001b[0;34m\u001b[0m\n\u001b[1;32m      1\u001b[0m \u001b[0;32mfor\u001b[0m \u001b[0mindex\u001b[0m\u001b[0;34m,\u001b[0m \u001b[0mitem\u001b[0m \u001b[0;32min\u001b[0m \u001b[0menumerate\u001b[0m\u001b[0;34m(\u001b[0m\u001b[0mlat_long_lst\u001b[0m\u001b[0;34m)\u001b[0m\u001b[0;34m:\u001b[0m\u001b[0;34m\u001b[0m\u001b[0;34m\u001b[0m\u001b[0m\n\u001b[0;32m----> 2\u001b[0;31m     \u001b[0mcom_df\u001b[0m\u001b[0;34m[\u001b[0m\u001b[0;34m\"Latitude\"\u001b[0m\u001b[0;34m]\u001b[0m\u001b[0;34m.\u001b[0m\u001b[0miloc\u001b[0m\u001b[0;34m[\u001b[0m\u001b[0mindex\u001b[0m\u001b[0;34m]\u001b[0m \u001b[0;34m=\u001b[0m \u001b[0mitem\u001b[0m\u001b[0;34m[\u001b[0m\u001b[0;36m0\u001b[0m\u001b[0;34m]\u001b[0m\u001b[0;34m\u001b[0m\u001b[0;34m\u001b[0m\u001b[0m\n\u001b[0m\u001b[1;32m      3\u001b[0m     \u001b[0mcom_df\u001b[0m\u001b[0;34m[\u001b[0m\u001b[0;34m\"Longitude\"\u001b[0m\u001b[0;34m]\u001b[0m\u001b[0;34m.\u001b[0m\u001b[0miloc\u001b[0m\u001b[0;34m[\u001b[0m\u001b[0mindex\u001b[0m\u001b[0;34m]\u001b[0m \u001b[0;34m=\u001b[0m \u001b[0mitem\u001b[0m\u001b[0;34m[\u001b[0m\u001b[0;36m1\u001b[0m\u001b[0;34m]\u001b[0m\u001b[0;34m\u001b[0m\u001b[0;34m\u001b[0m\u001b[0m\n",
      "\u001b[0;32m~/opt/anaconda3/lib/python3.9/site-packages/pandas/core/frame.py\u001b[0m in \u001b[0;36m__getitem__\u001b[0;34m(self, key)\u001b[0m\n\u001b[1;32m   3456\u001b[0m             \u001b[0;32mif\u001b[0m \u001b[0mself\u001b[0m\u001b[0;34m.\u001b[0m\u001b[0mcolumns\u001b[0m\u001b[0;34m.\u001b[0m\u001b[0mnlevels\u001b[0m \u001b[0;34m>\u001b[0m \u001b[0;36m1\u001b[0m\u001b[0;34m:\u001b[0m\u001b[0;34m\u001b[0m\u001b[0;34m\u001b[0m\u001b[0m\n\u001b[1;32m   3457\u001b[0m                 \u001b[0;32mreturn\u001b[0m \u001b[0mself\u001b[0m\u001b[0;34m.\u001b[0m\u001b[0m_getitem_multilevel\u001b[0m\u001b[0;34m(\u001b[0m\u001b[0mkey\u001b[0m\u001b[0;34m)\u001b[0m\u001b[0;34m\u001b[0m\u001b[0;34m\u001b[0m\u001b[0m\n\u001b[0;32m-> 3458\u001b[0;31m             \u001b[0mindexer\u001b[0m \u001b[0;34m=\u001b[0m \u001b[0mself\u001b[0m\u001b[0;34m.\u001b[0m\u001b[0mcolumns\u001b[0m\u001b[0;34m.\u001b[0m\u001b[0mget_loc\u001b[0m\u001b[0;34m(\u001b[0m\u001b[0mkey\u001b[0m\u001b[0;34m)\u001b[0m\u001b[0;34m\u001b[0m\u001b[0;34m\u001b[0m\u001b[0m\n\u001b[0m\u001b[1;32m   3459\u001b[0m             \u001b[0;32mif\u001b[0m \u001b[0mis_integer\u001b[0m\u001b[0;34m(\u001b[0m\u001b[0mindexer\u001b[0m\u001b[0;34m)\u001b[0m\u001b[0;34m:\u001b[0m\u001b[0;34m\u001b[0m\u001b[0;34m\u001b[0m\u001b[0m\n\u001b[1;32m   3460\u001b[0m                 \u001b[0mindexer\u001b[0m \u001b[0;34m=\u001b[0m \u001b[0;34m[\u001b[0m\u001b[0mindexer\u001b[0m\u001b[0;34m]\u001b[0m\u001b[0;34m\u001b[0m\u001b[0;34m\u001b[0m\u001b[0m\n",
      "\u001b[0;32m~/opt/anaconda3/lib/python3.9/site-packages/pandas/core/indexes/base.py\u001b[0m in \u001b[0;36mget_loc\u001b[0;34m(self, key, method, tolerance)\u001b[0m\n\u001b[1;32m   3361\u001b[0m                 \u001b[0;32mreturn\u001b[0m \u001b[0mself\u001b[0m\u001b[0;34m.\u001b[0m\u001b[0m_engine\u001b[0m\u001b[0;34m.\u001b[0m\u001b[0mget_loc\u001b[0m\u001b[0;34m(\u001b[0m\u001b[0mcasted_key\u001b[0m\u001b[0;34m)\u001b[0m\u001b[0;34m\u001b[0m\u001b[0;34m\u001b[0m\u001b[0m\n\u001b[1;32m   3362\u001b[0m             \u001b[0;32mexcept\u001b[0m \u001b[0mKeyError\u001b[0m \u001b[0;32mas\u001b[0m \u001b[0merr\u001b[0m\u001b[0;34m:\u001b[0m\u001b[0;34m\u001b[0m\u001b[0;34m\u001b[0m\u001b[0m\n\u001b[0;32m-> 3363\u001b[0;31m                 \u001b[0;32mraise\u001b[0m \u001b[0mKeyError\u001b[0m\u001b[0;34m(\u001b[0m\u001b[0mkey\u001b[0m\u001b[0;34m)\u001b[0m \u001b[0;32mfrom\u001b[0m \u001b[0merr\u001b[0m\u001b[0;34m\u001b[0m\u001b[0;34m\u001b[0m\u001b[0m\n\u001b[0m\u001b[1;32m   3364\u001b[0m \u001b[0;34m\u001b[0m\u001b[0m\n\u001b[1;32m   3365\u001b[0m         \u001b[0;32mif\u001b[0m \u001b[0mis_scalar\u001b[0m\u001b[0;34m(\u001b[0m\u001b[0mkey\u001b[0m\u001b[0;34m)\u001b[0m \u001b[0;32mand\u001b[0m \u001b[0misna\u001b[0m\u001b[0;34m(\u001b[0m\u001b[0mkey\u001b[0m\u001b[0;34m)\u001b[0m \u001b[0;32mand\u001b[0m \u001b[0;32mnot\u001b[0m \u001b[0mself\u001b[0m\u001b[0;34m.\u001b[0m\u001b[0mhasnans\u001b[0m\u001b[0;34m:\u001b[0m\u001b[0;34m\u001b[0m\u001b[0;34m\u001b[0m\u001b[0m\n",
      "\u001b[0;31mKeyError\u001b[0m: 'Latitude'"
     ]
    }
   ],
   "source": [
    "for index, item in enumerate(lat_long_lst):\n",
    "    com_df[\"Latitude\"].iloc[index] = item[0]\n",
    "    com_df[\"Longitude\"].iloc[index] = item[1]"
   ]
  },
  {
   "cell_type": "code",
   "execution_count": 327,
   "metadata": {
    "cell_id": "a8440f02000f4f2e95359e6e76d97bce",
    "collapsed": true,
    "deepnote_cell_type": "code"
   },
   "outputs": [
    {
     "data": {
      "text/plain": [
       "[(42.3764128, -71.2462826),\n",
       " (42.4549959, -71.0655774),\n",
       " (42.3693348, -71.2187824),\n",
       " (42.3757599, -71.2421873),\n",
       " (42.3764128, -71.2462826),\n",
       " (42.3677572, -71.2377956),\n",
       " (42.4045948, -71.2172707),\n",
       " (42.3748086, -71.2497742),\n",
       " (42.4049617, -71.2347331),\n",
       " (42.3697718, -71.2369958),\n",
       " (42.3869904, -71.1993747),\n",
       " (42.3747041, -71.234192),\n",
       " (42.394863, -71.261388),\n",
       " (42.3708125, -71.2367487),\n",
       " (42.3766362, -71.2737223),\n",
       " (42.3696466, -71.2481156),\n",
       " (42.3747041, -71.234192),\n",
       " (42.372369, -71.2369462),\n",
       " (42.3760918, -71.250963),\n",
       " (42.3916135, -71.2565512),\n",
       " (42.3916135, -71.2565512),\n",
       " (42.3763172, -71.2378067),\n",
       " (42.3695497, -71.2489404),\n",
       " (42.3953336, -71.2636731),\n",
       " (42.3768165, -71.231317),\n",
       " (42.3761225, -71.2135514),\n",
       " (42.4059669, -71.2332125),\n",
       " (42.3696466, -71.2481156),\n",
       " (42.4045948, -71.2172707),\n",
       " (42.3748086, -71.2497742),\n",
       " (42.3704565, -71.2383092),\n",
       " (42.4119322, -71.2329416),\n",
       " (42.3748086, -71.2497742),\n",
       " (42.3764128, -71.2462826),\n",
       " (42.3696466, -71.2481156),\n",
       " (42.3760286, -71.2529152),\n",
       " (42.3697718, -71.2369958),\n",
       " (42.372369, -71.2369462),\n",
       " (42.3716075, -71.2378603),\n",
       " (42.4068177, -71.2553157),\n",
       " (42.3944329, -71.2366299),\n",
       " (42.3768165, -71.231317),\n",
       " (42.3735079, -71.2497066),\n",
       " (42.3748086, -71.2497742),\n",
       " (42.3760286, -71.2529152),\n",
       " (42.3953336, -71.2636731),\n",
       " (42.3761225, -71.2135514),\n",
       " (42.3693348, -71.2187824),\n",
       " (42.3953336, -71.2636731),\n",
       " (42.372369, -71.2369462),\n",
       " (42.3760918, -71.250963),\n",
       " (42.3764128, -71.2462826),\n",
       " (42.3763172, -71.2378067),\n",
       " (42.3693348, -71.2187824),\n",
       " (42.3768165, -71.231317),\n",
       " (42.3693348, -71.2187824),\n",
       " (42.3869904, -71.1993747),\n",
       " (42.4180025, -71.2311054),\n",
       " (42.3696466, -71.2481156),\n",
       " (42.3748086, -71.2497742),\n",
       " (42.4103873, -71.2311586),\n",
       " (42.3762311, -71.2333173)]"
      ]
     },
     "execution_count": 327,
     "metadata": {},
     "output_type": "execute_result"
    }
   ],
   "source": [
    "dist = []\n",
    "for i in comp_df.index :\n",
    "    lt_lg = (comp_df['Latitude'][i], comp_df['Longitude'][i])\n",
    "    dist.append(lt_lg)"
   ]
  },
  {
   "cell_type": "markdown",
   "metadata": {},
   "source": [
    "Get average distance to other competitors location from the selected location using haversine library"
   ]
  },
  {
   "cell_type": "code",
   "execution_count": 329,
   "metadata": {
    "cell_id": "c7eb537451ce43d49ba858e626b3c1fd",
    "deepnote_cell_type": "code"
   },
   "outputs": [],
   "source": [
    "# Get average distance to other competitors location from the selected location\n",
    "# use haversine library\n",
    "distance_lst = []\n",
    "for loc2 in dist:\n",
    "    distance_lst.append(hs.haversine(open_location_a,loc2, unit=Unit.MILES))"
   ]
  },
  {
   "cell_type": "code",
   "execution_count": 338,
   "metadata": {
    "cell_id": "b669a21577c04228980e111b821e18cf",
    "deepnote_cell_type": "code"
   },
   "outputs": [],
   "source": [
    "avg_dist = []\n",
    "def get_avg(dist):\n",
    "    distance_lst = []\n",
    "    i = 0\n",
    "    while i < len(dist):\n",
    "        distan = [hs.haversine(dist[i],dist[j], unit=Unit.MILES) for j in range(1, len(dist))]\n",
    "        distance_lst.append(mean(distan))\n",
    "        i += 1\n",
    "    return distance_lst"
   ]
  },
  {
   "cell_type": "code",
   "execution_count": 331,
   "metadata": {
    "cell_id": "66e8973cdedd4dd59fcdb11b95ceb288",
    "deepnote_cell_type": "code"
   },
   "outputs": [],
   "source": [
    "distance_lst = []\n",
    "for i in range(len(dist)):\n",
    "    for j in range(1, len(dist)):\n",
    "        distance_lst.append(hs.haversine(dist[i],dist[j], unit=Unit.MILES))"
   ]
  },
  {
   "cell_type": "code",
   "execution_count": 342,
   "metadata": {
    "cell_id": "73694db33c28454a9deb56ba40318ae4",
    "deepnote_cell_type": "code"
   },
   "outputs": [],
   "source": [
    "avg_dist = get_avg(dist)\n",
    "comp_df[\"Average_Distance\"] = avg_dist"
   ]
  },
  {
   "cell_type": "markdown",
   "metadata": {},
   "source": [
    "Preprocessing unnecessary words in the dataset that doesn't work with geopandas library"
   ]
  },
  {
   "cell_type": "code",
   "execution_count": 89,
   "metadata": {
    "cell_id": "9e961d3329e84625a74a59150bc7dfea",
    "deepnote_cell_type": "code",
    "deepnote_to_be_reexecuted": false,
    "execution_millis": 0,
    "execution_start": 1668649498014,
    "source_hash": "2665c458",
    "tags": []
   },
   "outputs": [],
   "source": [
    "import re\n",
    "remove_lst = [\"UNIT\",\"Unit\",\"3rd\", \"#\", \"Suite\", \"DOCTORS OFFICE BUILDING\", \"STE\", \"Ste\", \"Dental Department\", \"Pet Supplies Plus\"]\n",
    "cleaned_lst = []\n",
    "for i in competitor_df[\"location\"]:\n",
    "    reduced = [s for s in i.split(',')]\n",
    "    # print(reduced)\n",
    "    for index,element in enumerate(reduced):\n",
    "        # print(element)\n",
    "        if \"DOCTORS OFFICE BUILDING\" == element or \"Dental Department\" == element or \"Pet Supplies Plus\" == element:\n",
    "            removed_element = reduced.pop(0)\n",
    "    for j in remove_lst:\n",
    "        if j in reduced[0]:\n",
    "            reduced[0] = reduced[0].split(j)[0].rstrip(\" \")\n",
    "    cleaned_lst.append(\",\".join(reduced))\n",
    "\n",
    "competitor_df[\"location\"] = cleaned_lst\n",
    "    "
   ]
  },
  {
   "cell_type": "code",
   "execution_count": 94,
   "metadata": {
    "cell_id": "58bc167b869c47d9a9d3f200d2893a62",
    "deepnote_cell_type": "code",
    "deepnote_table_loading": false,
    "deepnote_table_state": {
     "filters": [],
     "pageIndex": 7,
     "pageSize": 25,
     "sortBy": []
    },
    "deepnote_to_be_reexecuted": false,
    "execution_millis": 0,
    "execution_start": 1668649788262,
    "source_hash": "c74baf30",
    "tags": []
   },
   "outputs": [],
   "source": [
    "competitor_df = competitor_df.drop(176)"
   ]
  },
  {
   "cell_type": "code",
   "execution_count": 96,
   "metadata": {
    "cell_id": "f5abc60ebc934096b6f96259070ecf06",
    "deepnote_cell_type": "code",
    "deepnote_table_loading": false,
    "deepnote_table_state": {
     "filters": [],
     "pageIndex": 17,
     "pageSize": 10,
     "sortBy": []
    },
    "deepnote_to_be_reexecuted": false,
    "execution_millis": 0,
    "execution_start": 1668649889387,
    "source_hash": "ce70365f",
    "tags": []
   },
   "outputs": [],
   "source": [
    "competitor_df.drop(171, inplace = True)"
   ]
  },
  {
   "cell_type": "code",
   "execution_count": 98,
   "metadata": {
    "cell_id": "cccbdb90463a471d8bd0e2da9a31ca8f",
    "deepnote_cell_type": "code",
    "deepnote_to_be_reexecuted": false,
    "execution_millis": 95951,
    "execution_start": 1668650031031,
    "source_hash": "cbb33e97",
    "tags": []
   },
   "outputs": [],
   "source": [
    "def eval_results(x):\n",
    "    try:\n",
    "        return (x.latitude, x.longitude)\n",
    "    except:\n",
    "        return (None, None)\n",
    "competitor_df[['lat_long']] = competitor_df['location'].apply(geolocator.geocode, timeout=1000000).apply(lambda x: eval_results(x))"
   ]
  }
 ],
 "metadata": {
  "deepnote": {},
  "deepnote_execution_queue": [],
  "deepnote_notebook_id": "4350168ffd6f4c339e3170bf9f6270da",
  "deepnote_persisted_session": {
   "createdAt": "2022-11-17T02:16:45.345Z"
  },
  "kernelspec": {
   "display_name": "Python 3 (ipykernel)",
   "language": "python",
   "name": "python3"
  },
  "language_info": {
   "codemirror_mode": {
    "name": "ipython",
    "version": 3
   },
   "file_extension": ".py",
   "mimetype": "text/x-python",
   "name": "python",
   "nbconvert_exporter": "python",
   "pygments_lexer": "ipython3",
   "version": "3.9.7"
  }
 },
 "nbformat": 4,
 "nbformat_minor": 1
}
